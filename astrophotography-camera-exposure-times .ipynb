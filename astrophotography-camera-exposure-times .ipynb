{
 "cells": [
  {
   "cell_type": "markdown",
   "id": "2b9b5a57",
   "metadata": {},
   "source": [
    "# Calculations for FOV\n",
    "\n",
    "This notebook goes into the caculations for the Field of View for my camera. This should allow me to calculate a box that I can put over my star maps to see what I should be able to see."
   ]
  },
  {
   "cell_type": "markdown",
   "id": "c5427e1c",
   "metadata": {},
   "source": [
    "FOV in arcseconds of a degree = $\\dfrac{Chip Size}{Focal Length}$ * $\\dfrac{360^{\\circ}}{2\\pi}$ * 60$\\dfrac{arcminutes}{1^{\\circ}}$ * 60  $\\dfrac{arcseconds}{arcminute}$"
   ]
  },
  {
   "cell_type": "markdown",
   "id": "4d795d32",
   "metadata": {},
   "source": [
    "## ASI482MC"
   ]
  },
  {
   "cell_type": "markdown",
   "id": "c83df6d6",
   "metadata": {},
   "source": [
    "So for the ASI482MC:\n",
    "* Resolution: 2.07Mega Pixel,1920 x 1080\n",
    "* Pixel Size: 5.8um x 5.8um\n",
    "* Dimension of sensor: 11.13mm x 6.26mm"
   ]
  },
  {
   "cell_type": "code",
   "execution_count": 1,
   "id": "7da045d2",
   "metadata": {},
   "outputs": [],
   "source": [
    "# My telescope has 1600mm focal length\n",
    "focal_length = 1600"
   ]
  },
  {
   "cell_type": "code",
   "execution_count": 2,
   "id": "1b2e7479",
   "metadata": {},
   "outputs": [
    {
     "data": {
      "text/plain": [
       "1434.829558456364"
      ]
     },
     "execution_count": 2,
     "metadata": {},
     "output_type": "execute_result"
    }
   ],
   "source": [
    "import math\n",
    "\n",
    "FOV_x = (11.13/focal_length) * (360/(2*math.pi)) * 60 * 60\n",
    "FOV_x"
   ]
  },
  {
   "cell_type": "code",
   "execution_count": 3,
   "id": "4a86bbd6",
   "metadata": {},
   "outputs": [
    {
     "data": {
      "text/plain": [
       "807.0110544417645"
      ]
     },
     "execution_count": 3,
     "metadata": {},
     "output_type": "execute_result"
    }
   ],
   "source": [
    "FOV_y = (6.26/focal_length) * (360/(2*math.pi)) * 60 * 60\n",
    "FOV_y"
   ]
  },
  {
   "cell_type": "markdown",
   "id": "91d05e4e",
   "metadata": {},
   "source": [
    "So the theroretical FOV for the ASI482MC is: 1435 x 807 arcseconds\n",
    "\n",
    "We will want to know the field of view per pixel for later."
   ]
  },
  {
   "cell_type": "code",
   "execution_count": 4,
   "id": "bbce5ee4",
   "metadata": {},
   "outputs": [
    {
     "data": {
      "text/plain": [
       "0.7477099226457243"
      ]
     },
     "execution_count": 4,
     "metadata": {},
     "output_type": "execute_result"
    }
   ],
   "source": [
    "ASI482MC_FOV_pixel = (0.0058/focal_length) * (360/(2*math.pi)) * 60 * 60\n",
    "ASI482MC_FOV_pixel"
   ]
  },
  {
   "cell_type": "markdown",
   "id": "3fd82ba9",
   "metadata": {},
   "source": [
    "## ASI120MC-S"
   ]
  },
  {
   "cell_type": "markdown",
   "id": "23325bd6",
   "metadata": {},
   "source": [
    "So for the ASI120MC-S:\n",
    "* Resolution: 1.2Mega Pixels 1280×960\n",
    "* Pixel Size: 3.75um x 3.75um\n",
    "* Dimension of sensor: 4.8mm x 3.6mm"
   ]
  },
  {
   "cell_type": "code",
   "execution_count": 5,
   "id": "7e55bac2",
   "metadata": {},
   "outputs": [
    {
     "data": {
      "text/plain": [
       "618.7944187412891"
      ]
     },
     "execution_count": 5,
     "metadata": {},
     "output_type": "execute_result"
    }
   ],
   "source": [
    "FOV_x = (4.8/focal_length) * (360/(2*math.pi)) * 60 * 60\n",
    "FOV_x"
   ]
  },
  {
   "cell_type": "code",
   "execution_count": 6,
   "id": "4e720ce6",
   "metadata": {},
   "outputs": [
    {
     "data": {
      "text/plain": [
       "464.09581405596685"
      ]
     },
     "execution_count": 6,
     "metadata": {},
     "output_type": "execute_result"
    }
   ],
   "source": [
    "FOV_y = (3.6/focal_length) * (360/(2*math.pi)) * 60 * 60\n",
    "FOV_y"
   ]
  },
  {
   "cell_type": "markdown",
   "id": "09fb58e8",
   "metadata": {},
   "source": [
    "So the theroretical FOV for the ASI120MC-S is: 619 x 464 arcseconds\n",
    "\n",
    "We will want to know the field of view per pixel for later."
   ]
  },
  {
   "cell_type": "code",
   "execution_count": 7,
   "id": "0111ac54",
   "metadata": {},
   "outputs": [
    {
     "data": {
      "text/plain": [
       "0.48343313964163204"
      ]
     },
     "execution_count": 7,
     "metadata": {},
     "output_type": "execute_result"
    }
   ],
   "source": [
    "ASI120MC_S_FOV_pixel = (0.00375/focal_length) * (360/(2*math.pi)) * 60 * 60\n",
    "ASI120MC_S_FOV_pixel"
   ]
  },
  {
   "cell_type": "markdown",
   "id": "0883fd5d",
   "metadata": {},
   "source": [
    "## 2.5mm 170 degree \"All Sky Lens\" attatchment\n",
    "\n",
    "The ASI120MC-S has an \"all sky\" lens attachment.  \n",
    "\n",
    "FOV in arcseconds of a degree = degrees * 60$\\dfrac{arcminutes}{1^{\\circ}}$ * 60  $\\dfrac{arcseconds}{arcminute}$\n"
   ]
  },
  {
   "cell_type": "code",
   "execution_count": 8,
   "id": "5dda398c",
   "metadata": {},
   "outputs": [
    {
     "data": {
      "text/plain": [
       "612000"
      ]
     },
     "execution_count": 8,
     "metadata": {},
     "output_type": "execute_result"
    }
   ],
   "source": [
    "ALL_SKY_FOV = 170*60*60\n",
    "ALL_SKY_FOV"
   ]
  },
  {
   "cell_type": "markdown",
   "id": "fd97f74c",
   "metadata": {},
   "source": [
    "An estimate of the FOV of the pixel can be calculated from the resolution of the camera. It should give a close approximation."
   ]
  },
  {
   "cell_type": "code",
   "execution_count": 9,
   "id": "97f16a25",
   "metadata": {},
   "outputs": [
    {
     "data": {
      "text/plain": [
       "478.125"
      ]
     },
     "execution_count": 9,
     "metadata": {},
     "output_type": "execute_result"
    }
   ],
   "source": [
    "ALL_SKY_FOV_pixel = ALL_SKY_FOV / 1280\n",
    "ALL_SKY_FOV_pixel"
   ]
  },
  {
   "cell_type": "markdown",
   "id": "4ce27dab",
   "metadata": {},
   "source": [
    "## Rotation of earth in arcsecond of a degree per temporal millisecond "
   ]
  },
  {
   "cell_type": "markdown",
   "id": "b486e902",
   "metadata": {},
   "source": [
    "Single Rotation in arcseconds of a degree = $\\dfrac{360^{\\circ}}{2\\pi}$ * 60$\\dfrac{arcminutes}{1^{\\circ}}$ * 60  $\\dfrac{arcseconds}{arcminute}$"
   ]
  },
  {
   "cell_type": "markdown",
   "id": "11996073",
   "metadata": {},
   "source": [
    "Single Rotation in temporal seconds = 24 hr * 60 $\\dfrac{min}{hr}$ * 60 $\\dfrac{seconds}{min}$ \n",
    "\n",
    "The actual rotation in seconds is based on sidereal rate (23 hr 56 min 4s). It's the whole reason we have leap years. For now I'm going to ignore the siderealrate. Because of this the time we calculate \n",
    "\n",
    "Single Rotation in sidereal seconds = ((23 hr * 60 $\\dfrac{min}{hr}$ + 56 min) * 60 $\\dfrac{seconds}{min}$) + 4 seconds "
   ]
  },
  {
   "cell_type": "markdown",
   "id": "be564ae6",
   "metadata": {},
   "source": [
    "Rotation of earth in arcseconds per second =  $\\dfrac{arcseconds}{second}$"
   ]
  },
  {
   "cell_type": "code",
   "execution_count": 10,
   "id": "ea48427a",
   "metadata": {},
   "outputs": [
    {
     "data": {
      "text/plain": [
       "206264.80624709633"
      ]
     },
     "execution_count": 10,
     "metadata": {},
     "output_type": "execute_result"
    }
   ],
   "source": [
    "rotation_arcseconds = (360/(2*math.pi)) * 60 * 60\n",
    "rotation_arcseconds"
   ]
  },
  {
   "cell_type": "code",
   "execution_count": 11,
   "id": "95d6ff11",
   "metadata": {},
   "outputs": [
    {
     "data": {
      "text/plain": [
       "86400"
      ]
     },
     "execution_count": 11,
     "metadata": {},
     "output_type": "execute_result"
    }
   ],
   "source": [
    "rotation_seconds = 24 * 60 * 60\n",
    "rotation_seconds"
   ]
  },
  {
   "cell_type": "code",
   "execution_count": 12,
   "id": "e4b33433",
   "metadata": {},
   "outputs": [
    {
     "data": {
      "text/plain": [
       "86164"
      ]
     },
     "execution_count": 12,
     "metadata": {},
     "output_type": "execute_result"
    }
   ],
   "source": [
    "sidereal_rotation_seconds = (((23 * 60)+56) * 60) +4\n",
    "sidereal_rotation_seconds"
   ]
  },
  {
   "cell_type": "code",
   "execution_count": 13,
   "id": "ee81ade4",
   "metadata": {},
   "outputs": [
    {
     "data": {
      "text/plain": [
       "2.393862938664597"
      ]
     },
     "execution_count": 13,
     "metadata": {},
     "output_type": "execute_result"
    }
   ],
   "source": [
    "rotation_rate = rotation_arcseconds/sidereal_rotation_seconds\n",
    "rotation_rate"
   ]
  },
  {
   "cell_type": "markdown",
   "id": "359e5d03",
   "metadata": {},
   "source": [
    "So a star on the celestrial equator will have a length of 2.4 arc seconds and a star at the axis of rotation will not move."
   ]
  },
  {
   "cell_type": "markdown",
   "id": "64ba63da",
   "metadata": {},
   "source": [
    "## Calculating max exposure time\n",
    "\n",
    "The idea is to calculate the maximum exposure time based on the star's declination (The distance in degrees from the celestial equator). \n",
    "\n",
    "The maximum exposure time is the amount of time to hold a point of light in a particular pixel in the CCD.\n",
    "\n",
    "We do this to optimize the color obsorption. The longer we can expose a pixel to the light the less atmospheric noise will matter. These effects could be light clouds, thermal effects or other phenomena. You are hoping to average out a better signal to noise.\n"
   ]
  },
  {
   "cell_type": "markdown",
   "id": "b2d45718",
   "metadata": {},
   "source": [
    "### Why does a stars declination matter?\n",
    "\n",
    "The Polaris (north star) is at 89° 15′ 50.8″ while Regulus is at 11° 58′ 01.95″. The distance a star moves over time relative to a pixel on the camera is based on it's declination from the celestrial equator. Polaris barely moves while Regulus while will appear to move farther or hav a greater arc acorss the sky.\n",
    "\n",
    "Or in other words Polaris can have a longer exposure time than Regulus."
   ]
  },
  {
   "cell_type": "markdown",
   "id": "e10b4fe0",
   "metadata": {},
   "source": [
    "In other words:\n",
    "declination in degrees = ((((degree * 60$\\dfrac{arcminutes}{1^{\\circ}}$) + arcminutes) * 60  $\\dfrac{arcseconds}{arcminute}$)+ arcseconds) * $\\dfrac{1^{\\circ}}{3600 arcseconds}$"
   ]
  },
  {
   "cell_type": "markdown",
   "id": "24201f85",
   "metadata": {},
   "source": [
    "stars expexted movement (arcseconds) = rotational rate * $\\dfrac{90 - \\lvert declination \\rvert}{90}$"
   ]
  },
  {
   "cell_type": "code",
   "execution_count": 14,
   "id": "c7daa4f7",
   "metadata": {},
   "outputs": [
    {
     "data": {
      "text/plain": [
       "89.2641111111111"
      ]
     },
     "execution_count": 14,
     "metadata": {},
     "output_type": "execute_result"
    }
   ],
   "source": [
    "# Polaris (north star) is at 89° 15′ 50.8″ \n",
    "degrees = 89\n",
    "minutes = 15\n",
    "seconds = 50.8\n",
    "\n",
    "DEC = ((((degrees*60)+minutes)*60)+seconds)/3600\n",
    "DEC"
   ]
  },
  {
   "cell_type": "code",
   "execution_count": 15,
   "id": "9f713a20",
   "metadata": {},
   "outputs": [
    {
     "data": {
      "text/plain": [
       "0.01957352375651326"
      ]
     },
     "execution_count": 15,
     "metadata": {},
     "output_type": "execute_result"
    }
   ],
   "source": [
    "polaris_movement_per_second = rotation_rate*((90-abs(DEC))/90)\n",
    "polaris_movement_per_second"
   ]
  },
  {
   "cell_type": "code",
   "execution_count": 16,
   "id": "6dc7939f",
   "metadata": {},
   "outputs": [
    {
     "data": {
      "text/plain": [
       "11.967208333333332"
      ]
     },
     "execution_count": 16,
     "metadata": {},
     "output_type": "execute_result"
    }
   ],
   "source": [
    "# Regulus (brightest in Leo) is at 11° 58′ 1.95″ \n",
    "degrees = 11\n",
    "minutes = 58\n",
    "seconds = 1.95\n",
    "\n",
    "DEC = ((((degrees*60)+minutes)*60)+seconds)/3600\n",
    "DEC"
   ]
  },
  {
   "cell_type": "code",
   "execution_count": 17,
   "id": "e4f2f20b",
   "metadata": {},
   "outputs": [
    {
     "data": {
      "text/plain": [
       "2.0755534219040994"
      ]
     },
     "execution_count": 17,
     "metadata": {},
     "output_type": "execute_result"
    }
   ],
   "source": [
    "regulus_movement_per_second = rotation_rate*((90-abs(DEC))/90)\n",
    "regulus_movement_per_second"
   ]
  },
  {
   "cell_type": "markdown",
   "id": "ff769863",
   "metadata": {},
   "source": [
    "As you can see Regulus will move 2 arcseconds while Polaris will barely move across the sky. "
   ]
  },
  {
   "cell_type": "markdown",
   "id": "73d16a69",
   "metadata": {},
   "source": [
    "### So what is the max exposure time?\n",
    "\n",
    "So depending on a cameras field of view per pixel and the expected movement of a star in seconds you should be able to identify a theoretical max exposure time.\n",
    "\n",
    "max exposure time = $\\dfrac{FOV}{movement per second}$ "
   ]
  },
  {
   "cell_type": "code",
   "execution_count": 18,
   "id": "a9cd0233",
   "metadata": {},
   "outputs": [
    {
     "name": "stdout",
     "output_type": "stream",
     "text": [
      "(ASI482MC) Polaris exposure in seconds: 38.20006719009485\n"
     ]
    }
   ],
   "source": [
    "# Max exposure for ASI482MC on Polaris in seconds\n",
    "max_exposure = ASI482MC_FOV_pixel/polaris_movement_per_second\n",
    "print(f'(ASI482MC) Polaris exposure in seconds: {max_exposure}')"
   ]
  },
  {
   "cell_type": "code",
   "execution_count": 19,
   "id": "aa842edd",
   "metadata": {},
   "outputs": [
    {
     "name": "stdout",
     "output_type": "stream",
     "text": [
      "(ASI482MC) Regulus exposure in milliseconds: 360.2460504050915\n"
     ]
    }
   ],
   "source": [
    "# Max exposure for ASI482MC on Regulus in milliseconds\n",
    "max_exposure = ASI482MC_FOV_pixel/regulus_movement_per_second * 1000\n",
    "print(f'(ASI482MC) Regulus exposure in milliseconds: {max_exposure}')"
   ]
  },
  {
   "cell_type": "code",
   "execution_count": 20,
   "id": "e0bf63e9",
   "metadata": {},
   "outputs": [
    {
     "name": "stdout",
     "output_type": "stream",
     "text": [
      "(ASI120MC-S) Polaris exposure in seconds: 24.698319303940632\n"
     ]
    }
   ],
   "source": [
    "# Max exposure for ASI120MC-S on Polaris in seconds\n",
    "max_exposure = ASI120MC_S_FOV_pixel/polaris_movement_per_second\n",
    "print(f'(ASI120MC-S) Polaris exposure in seconds: {max_exposure}')"
   ]
  },
  {
   "cell_type": "code",
   "execution_count": 21,
   "id": "b7b7486d",
   "metadata": {},
   "outputs": [
    {
     "name": "stdout",
     "output_type": "stream",
     "text": [
      "(ASI120MC-S) Regulus exposure in milliseconds: 232.91770500329187\n"
     ]
    }
   ],
   "source": [
    "# Max exposure for ASI120MC-S on Regulus in milliseconds\n",
    "max_exposure = ASI120MC_S_FOV_pixel/regulus_movement_per_second * 1000\n",
    "print(f'(ASI120MC-S) Regulus exposure in milliseconds: {max_exposure}')"
   ]
  },
  {
   "cell_type": "markdown",
   "id": "f4fba29e",
   "metadata": {},
   "source": [
    "We can also calculate the best exposure time for the \"all sky\" attachment to the ASI120MC-S. Because it will contain some star on the celestial equator; you can use the rotational rate a 0 Declination. "
   ]
  },
  {
   "cell_type": "code",
   "execution_count": 22,
   "id": "d27f023a",
   "metadata": {},
   "outputs": [
    {
     "name": "stdout",
     "output_type": "stream",
     "text": [
      "(ASI120MC-S) All sky exposure in seconds: 199.72948002892736\n"
     ]
    }
   ],
   "source": [
    "max_exposure = ALL_SKY_FOV_pixel/rotation_rate\n",
    "print(f'(ASI120MC-S) All sky exposure in seconds: {max_exposure}')"
   ]
  },
  {
   "cell_type": "markdown",
   "id": "2ae73a66",
   "metadata": {},
   "source": [
    "# Warning: These are theoretical limits meant to get you near max exposure time. Being a little less should help maximize results."
   ]
  }
 ],
 "metadata": {
  "kernelspec": {
   "display_name": "Python 3",
   "language": "python",
   "name": "python3"
  },
  "language_info": {
   "codemirror_mode": {
    "name": "ipython",
    "version": 3
   },
   "file_extension": ".py",
   "mimetype": "text/x-python",
   "name": "python",
   "nbconvert_exporter": "python",
   "pygments_lexer": "ipython3",
   "version": "3.8.10"
  }
 },
 "nbformat": 4,
 "nbformat_minor": 5
}
