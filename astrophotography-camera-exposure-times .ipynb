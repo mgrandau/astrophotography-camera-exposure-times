{
 "cells": [
  {
   "cell_type": "markdown",
   "id": "2b9b5a57",
   "metadata": {},
   "source": [
    "# Calculations for FOV\n",
    "\n",
    "This notebook goes into the calculations for the Field of View of my cameras. This should allow me to calculate a box that can put over my star maps to see what I should be able to see in the camera."
   ]
  },
  {
   "cell_type": "markdown",
   "id": "c5427e1c",
   "metadata": {},
   "source": [
    "$\\textbf{FOV\\ (arcseconds)} = \\dfrac{Chip\\ Size}{Focal\\ Length} * \\dfrac{360^{\\circ}}{2\\pi} * 60\\ \\dfrac{arcminutes}{1^{\\circ}} * 60\\ \\dfrac{arcseconds}{arcminute}$"
   ]
  },
  {
   "cell_type": "code",
   "execution_count": 1,
   "metadata": {},
   "outputs": [],
   "source": [
    "import math\n",
    "\n",
    "# My telescope has 1600mm focal length\n",
    "focal_length = 1600"
   ]
  },
  {
   "cell_type": "code",
   "execution_count": 2,
   "metadata": {},
   "outputs": [],
   "source": [
    "def fov(size_millimeter) :   \n",
    "    return (size_millimeter/focal_length) * (360/(2*math.pi)) * 60 * 60"
   ]
  },
  {
   "cell_type": "markdown",
   "metadata": {},
   "source": [
    "## ASI482MC"
   ]
  },
  {
   "cell_type": "markdown",
   "id": "c83df6d6",
   "metadata": {},
   "source": [
    "So for the ASI482MC:\n",
    "* Resolution: 2.07Mega Pixel,1920 x 1080\n",
    "* Pixel Size: 5.8um x 5.8um\n",
    "* Dimension of sensor: 11.13mm x 6.26mm"
   ]
  },
  {
   "cell_type": "code",
   "execution_count": 3,
   "metadata": {},
   "outputs": [],
   "source": [
    "ASI482MC_size_millimeter = (11.13, 6.26)\n",
    "ASI482MC_pixel_size_millimeter = 5.8/1000\n",
    "ASI482MC_FOV_pixel_in_arcseconds = fov(ASI482MC_pixel_size_millimeter)"
   ]
  },
  {
   "cell_type": "code",
   "execution_count": 4,
   "id": "d8a736bc",
   "metadata": {},
   "outputs": [
    {
     "name": "stdout",
     "output_type": "stream",
     "text": [
      "(ASI482MC) The theoretical FOV is: 1435 x 807 arcseconds\n"
     ]
    }
   ],
   "source": [
    "print(f'(ASI482MC) The theoretical FOV is: {fov(ASI482MC_size_millimeter[0]):.0f} x {fov(ASI482MC_size_millimeter[1]):.0f} arcseconds')"
   ]
  },
  {
   "cell_type": "markdown",
   "id": "91d05e4e",
   "metadata": {},
   "source": [
    "We will want to know the field of view per pixel for later."
   ]
  },
  {
   "cell_type": "code",
   "execution_count": 5,
   "id": "bbce5ee4",
   "metadata": {},
   "outputs": [
    {
     "name": "stdout",
     "output_type": "stream",
     "text": [
      "(ASI482MC) The theoretical FOV per pixel is: 0.748 arcseconds\n"
     ]
    }
   ],
   "source": [
    "print(f'(ASI482MC) The theoretical FOV per pixel is: {ASI482MC_FOV_pixel_in_arcseconds:.3f} arcseconds')"
   ]
  },
  {
   "cell_type": "markdown",
   "id": "3fd82ba9",
   "metadata": {},
   "source": [
    "## ASI120MC-S"
   ]
  },
  {
   "cell_type": "markdown",
   "id": "23325bd6",
   "metadata": {},
   "source": [
    "So for the ASI120MC-S:\n",
    "* Resolution: 1.2Mega Pixels 1280×960\n",
    "* Pixel Size: 3.75um x 3.75um\n",
    "* Dimension of sensor: 4.8mm x 3.6mm"
   ]
  },
  {
   "cell_type": "code",
   "execution_count": 6,
   "id": "7e55bac2",
   "metadata": {},
   "outputs": [],
   "source": [
    "ASI120MC_S_size_millimeter = (4.8, 3.6)\n",
    "ASI120MC_S_pixel_size_millimeter = 4.8/1000\n",
    "ASI120MC_S_FOV_pixel_in_arcseconds = fov(ASI120MC_S_pixel_size_millimeter)"
   ]
  },
  {
   "cell_type": "code",
   "execution_count": 7,
   "id": "4e720ce6",
   "metadata": {},
   "outputs": [
    {
     "name": "stdout",
     "output_type": "stream",
     "text": [
      "(ASI120MC-S) The theoretical FOV is: 619 x 464 arcseconds\n"
     ]
    }
   ],
   "source": [
    "print(f'(ASI120MC-S) The theoretical FOV is: {fov(ASI120MC_S_size_millimeter[0]):.0f} x {fov(ASI120MC_S_size_millimeter[1]):.0f} arcseconds')"
   ]
  },
  {
   "cell_type": "markdown",
   "id": "09fb58e8",
   "metadata": {},
   "source": [
    "We will want to know the field of view per pixel for later."
   ]
  },
  {
   "cell_type": "code",
   "execution_count": 8,
   "id": "0111ac54",
   "metadata": {},
   "outputs": [
    {
     "name": "stdout",
     "output_type": "stream",
     "text": [
      "(ASI120MC-S) The theoretical FOV per pixel is: 0.619 arcseconds\n"
     ]
    }
   ],
   "source": [
    "print(f'(ASI120MC-S) The theoretical FOV per pixel is: {ASI120MC_S_FOV_pixel_in_arcseconds:.3f} arcseconds')"
   ]
  },
  {
   "cell_type": "markdown",
   "id": "0883fd5d",
   "metadata": {},
   "source": [
    "## 170 degree \"All Sky Lens\" attachment\n",
    "\n",
    "The ASI120MC-S has an \"all sky\" lens attachment.  \n",
    "\n",
    "$\\textbf{FOV\\ (arcseconds)} = \\textbf{FOV\\ lens\\ (degrees)} * 60\\ \\dfrac{arcminutes}{1^{\\circ}} * 60\\ \\dfrac{arcseconds}{arcminute}$\n"
   ]
  },
  {
   "cell_type": "code",
   "execution_count": 9,
   "id": "5dda398c",
   "metadata": {},
   "outputs": [],
   "source": [
    "all_sky_FOV_in_arcseconds = 170 * 60 * 60\n",
    "all_sky_FOV_pixel_in_arcseconds = all_sky_FOV_in_arcseconds / 1280"
   ]
  },
  {
   "cell_type": "markdown",
   "id": "fd97f74c",
   "metadata": {},
   "source": [
    "An estimate of the FOV of the pixel can be calculated from the resolution of the camera. It should give a close approximation."
   ]
  },
  {
   "cell_type": "code",
   "execution_count": 10,
   "id": "97f16a25",
   "metadata": {},
   "outputs": [
    {
     "name": "stdout",
     "output_type": "stream",
     "text": [
      "(ASI120MC-S All Sky) The theoretical FOV per pixel is: 478 arcseconds\n"
     ]
    }
   ],
   "source": [
    "print(f'(ASI120MC-S All Sky) The theoretical FOV per pixel is: {all_sky_FOV_pixel_in_arcseconds:.0f} arcseconds')"
   ]
  },
  {
   "cell_type": "markdown",
   "id": "4ce27dab",
   "metadata": {},
   "source": [
    "## Rotation of earth (arcseconds per second) "
   ]
  },
  {
   "cell_type": "markdown",
   "id": "b486e902",
   "metadata": {},
   "source": [
    "$\\textbf{Single\\ Rotation\\ (arcseconds)} = \\dfrac{360^{\\circ}}{2\\pi} * 60\\ \\dfrac{arcminutes}{1^{\\circ}} * 60\\ \\dfrac{arcseconds}{arcminute}$"
   ]
  },
  {
   "cell_type": "markdown",
   "id": "11996073",
   "metadata": {},
   "source": [
    "$\\textbf{Single\\ Rotation\\ (seconds)} = 24\\ hr * 60\\ \\dfrac{min}{hr} * 60\\ \\dfrac{seconds}{min}$ \n",
    "\n",
    "The actual rotation in seconds is based on sidereal rate (23 hr 56 min 4s). It's the whole reason we have leap years. Because of this the sidereal time can be calculated: \n",
    "\n",
    "$\\textbf{Single\\ Rotation\\ (sidereal\\ seconds)} = (((23\\ hr * 60\\ \\dfrac{min}{hr}) + 56\\ min) * 60\\ \\dfrac{seconds}{min}) + 4\\ seconds$"
   ]
  },
  {
   "cell_type": "markdown",
   "id": "be564ae6",
   "metadata": {},
   "source": [
    "$\\textbf{Rotation\\ of\\ earth\\ (arcseconds\\ per\\ second)} = \\dfrac{Single\\ Rotation\\ (arcseconds)}{Single\\ Rotation\\ (sidereal\\ seconds)}$"
   ]
  },
  {
   "cell_type": "code",
   "execution_count": 11,
   "id": "ea48427a",
   "metadata": {},
   "outputs": [
    {
     "data": {
      "text/plain": [
       "206264.80624709633"
      ]
     },
     "execution_count": 11,
     "metadata": {},
     "output_type": "execute_result"
    }
   ],
   "source": [
    "rotation_arcseconds = (360/(2*math.pi)) * 60 * 60\n",
    "rotation_arcseconds"
   ]
  },
  {
   "cell_type": "code",
   "execution_count": 12,
   "id": "95d6ff11",
   "metadata": {},
   "outputs": [
    {
     "data": {
      "text/plain": [
       "86400"
      ]
     },
     "execution_count": 12,
     "metadata": {},
     "output_type": "execute_result"
    }
   ],
   "source": [
    "rotation_seconds = 24 * 60 * 60\n",
    "rotation_seconds"
   ]
  },
  {
   "cell_type": "code",
   "execution_count": 13,
   "id": "e4b33433",
   "metadata": {},
   "outputs": [
    {
     "data": {
      "text/plain": [
       "86164"
      ]
     },
     "execution_count": 13,
     "metadata": {},
     "output_type": "execute_result"
    }
   ],
   "source": [
    "sidereal_rotation_seconds = (((23 * 60)+56) * 60) +4\n",
    "sidereal_rotation_seconds"
   ]
  },
  {
   "cell_type": "code",
   "execution_count": 14,
   "id": "ee81ade4",
   "metadata": {},
   "outputs": [
    {
     "name": "stdout",
     "output_type": "stream",
     "text": [
      "The rotational rate of earth is: 2.394 arcseconds/second\n"
     ]
    }
   ],
   "source": [
    "rotation_rate = rotation_arcseconds/sidereal_rotation_seconds\n",
    "print(f'The rotational rate of earth is: {rotation_rate:.3f} arcseconds/second')"
   ]
  },
  {
   "cell_type": "markdown",
   "id": "359e5d03",
   "metadata": {},
   "source": [
    "So a star on the celestrial equator will have a length of 2.4 arc seconds and a star at the axis of rotation will not move."
   ]
  },
  {
   "cell_type": "markdown",
   "id": "64ba63da",
   "metadata": {},
   "source": [
    "## Calculating max exposure time\n",
    "\n",
    "The idea is to calculate the maximum exposure time based on the star's declination (The distance in degrees from the celestial equator). \n",
    "\n",
    "The maximum exposure time is the amount of time to hold a point of light in a particular pixel on the CCD.\n",
    "\n",
    "We do this to optimize the color absorption. The longer we can expose a pixel to the light the less atmospheric noise will matter. These effects could be light clouds, thermal effects or other phenomena. You are hoping to average out a better signal to noise.\n"
   ]
  },
  {
   "cell_type": "markdown",
   "id": "b2d45718",
   "metadata": {},
   "source": [
    "### Why does a stars declination matter?\n",
    "\n",
    "The Polaris (north star) is at 89° 15′ 50.8″ while Regulus is at 11° 58′ 01.95″. The distance a star moves over time relative to a pixel on the camera is based on it's declination from the celestial equator. Polaris barely moves while Regulus while will appear to move farther or hav a greater arc across the sky.\n",
    "\n",
    "Or in other words Polaris can have a longer exposure time than Regulus."
   ]
  },
  {
   "cell_type": "markdown",
   "id": "e10b4fe0",
   "metadata": {},
   "source": [
    "In other words:"
   ]
  },
  {
   "cell_type": "markdown",
   "metadata": {},
   "source": [
    "\n",
    "$\\textbf{declination\\ (degrees)} = ((((\\textbf{value\\ (degrees)} * 60\\ \\dfrac{arcminutes}{1^{\\circ}}) + \\textbf{value\\ (arcminutes)}) * 60\\ \\dfrac{arcseconds}{arcminute})+ \\textbf{value\\ (arcseconds)}) * \\dfrac{1^{\\circ}}{3600\\ (arcseconds)}$"
   ]
  },
  {
   "cell_type": "markdown",
   "id": "24201f85",
   "metadata": {},
   "source": [
    "$\\textbf{stars\\ expected\\ movement\\ (arcseconds per second)} = rotational\\ rate * \\dfrac{90^{\\circ} - \\lvert \\textbf{declination\\ (degrees)} \\rvert}{90^{\\circ}}$"
   ]
  },
  {
   "cell_type": "code",
   "execution_count": 15,
   "id": "c7daa4f7",
   "metadata": {},
   "outputs": [
    {
     "data": {
      "text/plain": [
       "89.2641111111111"
      ]
     },
     "execution_count": 15,
     "metadata": {},
     "output_type": "execute_result"
    }
   ],
   "source": [
    "# Polaris (north star) is at 89° 15′ 50.8″ \n",
    "degrees = 89\n",
    "minutes = 15\n",
    "seconds = 50.8\n",
    "\n",
    "DEC = ((((degrees*60)+minutes)*60)+seconds)/3600\n",
    "DEC"
   ]
  },
  {
   "cell_type": "code",
   "execution_count": 16,
   "id": "9f713a20",
   "metadata": {},
   "outputs": [
    {
     "data": {
      "text/plain": [
       "0.01957352375651326"
      ]
     },
     "execution_count": 16,
     "metadata": {},
     "output_type": "execute_result"
    }
   ],
   "source": [
    "polaris_movement_per_second = rotation_rate*((90-abs(DEC))/90)\n",
    "polaris_movement_per_second"
   ]
  },
  {
   "cell_type": "code",
   "execution_count": 17,
   "id": "6dc7939f",
   "metadata": {},
   "outputs": [
    {
     "data": {
      "text/plain": [
       "11.967208333333332"
      ]
     },
     "execution_count": 17,
     "metadata": {},
     "output_type": "execute_result"
    }
   ],
   "source": [
    "# Regulus (brightest in Leo) is at 11° 58′ 1.95″ \n",
    "degrees = 11\n",
    "minutes = 58\n",
    "seconds = 1.95\n",
    "\n",
    "DEC = ((((degrees*60)+minutes)*60)+seconds)/3600\n",
    "DEC"
   ]
  },
  {
   "cell_type": "code",
   "execution_count": 18,
   "id": "e4f2f20b",
   "metadata": {},
   "outputs": [
    {
     "data": {
      "text/plain": [
       "2.0755534219040994"
      ]
     },
     "execution_count": 18,
     "metadata": {},
     "output_type": "execute_result"
    }
   ],
   "source": [
    "regulus_movement_per_second = rotation_rate*((90-abs(DEC))/90)\n",
    "regulus_movement_per_second"
   ]
  },
  {
   "cell_type": "markdown",
   "id": "ff769863",
   "metadata": {},
   "source": [
    "As you can see Regulus will move 2 arcseconds while Polaris will barely move across the sky. "
   ]
  },
  {
   "cell_type": "markdown",
   "id": "73d16a69",
   "metadata": {},
   "source": [
    "### So what is the max exposure time?\n",
    "\n",
    "So depending on a camera's field of view per pixel, the expected movement of a star in seconds can be used to calculate the theoretical max exposure time.\n",
    "\n",
    "$\\textbf{max\\ exposure\\ time\\ (second)} = \\dfrac{FOV\\ per\\ pixel\\ (arcseconds)}{stars\\ movement\\ (arcseconds\\ per\\ second)}$ "
   ]
  },
  {
   "cell_type": "code",
   "execution_count": 19,
   "id": "a9cd0233",
   "metadata": {},
   "outputs": [
    {
     "name": "stdout",
     "output_type": "stream",
     "text": [
      "(ASI482MC) Polaris exposure in seconds: 38\n"
     ]
    }
   ],
   "source": [
    "# Max exposure for ASI482MC on Polaris in seconds\n",
    "max_exposure = ASI482MC_FOV_pixel_in_arcseconds/polaris_movement_per_second\n",
    "print(f'(ASI482MC) Polaris exposure (seconds): {max_exposure:.0f}')"
   ]
  },
  {
   "cell_type": "code",
   "execution_count": 25,
   "id": "aa842edd",
   "metadata": {},
   "outputs": [
    {
     "name": "stdout",
     "output_type": "stream",
     "text": [
      "(ASI482MC) Regulus exposure in milliseconds: 360\n"
     ]
    }
   ],
   "source": [
    "# Max exposure for ASI482MC on Regulus in milliseconds\n",
    "max_exposure = (ASI482MC_FOV_pixel_in_arcseconds/regulus_movement_per_second) * 1000\n",
    "print(f'(ASI482MC) Regulus exposure (milliseconds): {max_exposure:.0f}')"
   ]
  },
  {
   "cell_type": "code",
   "execution_count": 21,
   "id": "e0bf63e9",
   "metadata": {},
   "outputs": [
    {
     "name": "stdout",
     "output_type": "stream",
     "text": [
      "(ASI120MC-S) Polaris exposure in seconds: 32\n"
     ]
    }
   ],
   "source": [
    "# Max exposure for ASI120MC-S on Polaris in seconds\n",
    "max_exposure = ASI120MC_S_FOV_pixel_in_arcseconds/polaris_movement_per_second\n",
    "print(f'(ASI120MC-S) Polaris exposure (seconds): {max_exposure:.0f}')"
   ]
  },
  {
   "cell_type": "code",
   "execution_count": 22,
   "id": "b7b7486d",
   "metadata": {},
   "outputs": [
    {
     "name": "stdout",
     "output_type": "stream",
     "text": [
      "(ASI120MC-S) Regulus exposure in milliseconds: 298\n"
     ]
    }
   ],
   "source": [
    "# Max exposure for ASI120MC-S on Regulus in milliseconds\n",
    "max_exposure = (ASI120MC_S_FOV_pixel_in_arcseconds/regulus_movement_per_second) * 1000\n",
    "print(f'(ASI120MC-S) Regulus exposure (milliseconds): {max_exposure:.0f}')"
   ]
  },
  {
   "cell_type": "markdown",
   "id": "f4fba29e",
   "metadata": {},
   "source": [
    "We can also calculate the best exposure time for the \"all sky\" attachment to the ASI120MC-S. Because it will contain some star on the celestial equator; you can use the rotational rate a 0 Declination. "
   ]
  },
  {
   "cell_type": "code",
   "execution_count": 26,
   "id": "d27f023a",
   "metadata": {},
   "outputs": [
    {
     "name": "stdout",
     "output_type": "stream",
     "text": [
      "(ASI120MC-S) All sky exposure (seconds): 200\n"
     ]
    }
   ],
   "source": [
    "max_exposure = all_sky_FOV_pixel_in_arcseconds/rotation_rate\n",
    "print(f'(ASI120MC-S) All sky exposure (seconds): {max_exposure:.0f}')"
   ]
  },
  {
   "cell_type": "markdown",
   "id": "2ae73a66",
   "metadata": {},
   "source": [
    "# Warning: These are theoretical limits meant to get you near max exposure time. Being a little less should help maximize results."
   ]
  }
 ],
 "metadata": {
  "kernelspec": {
   "display_name": "Python 3",
   "language": "python",
   "name": "python3"
  },
  "language_info": {
   "codemirror_mode": {
    "name": "ipython",
    "version": 3
   },
   "file_extension": ".py",
   "mimetype": "text/x-python",
   "name": "python",
   "nbconvert_exporter": "python",
   "pygments_lexer": "ipython3",
   "version": "3.9.7"
  }
 },
 "nbformat": 4,
 "nbformat_minor": 5
}
